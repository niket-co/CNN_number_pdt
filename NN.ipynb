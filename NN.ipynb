{
 "cells": [
  {
   "cell_type": "code",
   "execution_count": 1,
   "id": "b1a9401f",
   "metadata": {},
   "outputs": [],
   "source": [
    "import numpy as np\n",
    "import pandas as pd\n",
    "import matplotlib.pyplot as plt\n",
    "import keras\n",
    "from keras.datasets import mnist"
   ]
  },
  {
   "cell_type": "code",
   "execution_count": 2,
   "id": "0bfae01c",
   "metadata": {},
   "outputs": [
    {
     "data": {
      "text/plain": [
       "((array([[[0, 0, 0, ..., 0, 0, 0],\n",
       "          [0, 0, 0, ..., 0, 0, 0],\n",
       "          [0, 0, 0, ..., 0, 0, 0],\n",
       "          ...,\n",
       "          [0, 0, 0, ..., 0, 0, 0],\n",
       "          [0, 0, 0, ..., 0, 0, 0],\n",
       "          [0, 0, 0, ..., 0, 0, 0]],\n",
       "  \n",
       "         [[0, 0, 0, ..., 0, 0, 0],\n",
       "          [0, 0, 0, ..., 0, 0, 0],\n",
       "          [0, 0, 0, ..., 0, 0, 0],\n",
       "          ...,\n",
       "          [0, 0, 0, ..., 0, 0, 0],\n",
       "          [0, 0, 0, ..., 0, 0, 0],\n",
       "          [0, 0, 0, ..., 0, 0, 0]],\n",
       "  \n",
       "         [[0, 0, 0, ..., 0, 0, 0],\n",
       "          [0, 0, 0, ..., 0, 0, 0],\n",
       "          [0, 0, 0, ..., 0, 0, 0],\n",
       "          ...,\n",
       "          [0, 0, 0, ..., 0, 0, 0],\n",
       "          [0, 0, 0, ..., 0, 0, 0],\n",
       "          [0, 0, 0, ..., 0, 0, 0]],\n",
       "  \n",
       "         ...,\n",
       "  \n",
       "         [[0, 0, 0, ..., 0, 0, 0],\n",
       "          [0, 0, 0, ..., 0, 0, 0],\n",
       "          [0, 0, 0, ..., 0, 0, 0],\n",
       "          ...,\n",
       "          [0, 0, 0, ..., 0, 0, 0],\n",
       "          [0, 0, 0, ..., 0, 0, 0],\n",
       "          [0, 0, 0, ..., 0, 0, 0]],\n",
       "  \n",
       "         [[0, 0, 0, ..., 0, 0, 0],\n",
       "          [0, 0, 0, ..., 0, 0, 0],\n",
       "          [0, 0, 0, ..., 0, 0, 0],\n",
       "          ...,\n",
       "          [0, 0, 0, ..., 0, 0, 0],\n",
       "          [0, 0, 0, ..., 0, 0, 0],\n",
       "          [0, 0, 0, ..., 0, 0, 0]],\n",
       "  \n",
       "         [[0, 0, 0, ..., 0, 0, 0],\n",
       "          [0, 0, 0, ..., 0, 0, 0],\n",
       "          [0, 0, 0, ..., 0, 0, 0],\n",
       "          ...,\n",
       "          [0, 0, 0, ..., 0, 0, 0],\n",
       "          [0, 0, 0, ..., 0, 0, 0],\n",
       "          [0, 0, 0, ..., 0, 0, 0]]], dtype=uint8),\n",
       "  array([5, 0, 4, ..., 5, 6, 8], dtype=uint8)),\n",
       " (array([[[0, 0, 0, ..., 0, 0, 0],\n",
       "          [0, 0, 0, ..., 0, 0, 0],\n",
       "          [0, 0, 0, ..., 0, 0, 0],\n",
       "          ...,\n",
       "          [0, 0, 0, ..., 0, 0, 0],\n",
       "          [0, 0, 0, ..., 0, 0, 0],\n",
       "          [0, 0, 0, ..., 0, 0, 0]],\n",
       "  \n",
       "         [[0, 0, 0, ..., 0, 0, 0],\n",
       "          [0, 0, 0, ..., 0, 0, 0],\n",
       "          [0, 0, 0, ..., 0, 0, 0],\n",
       "          ...,\n",
       "          [0, 0, 0, ..., 0, 0, 0],\n",
       "          [0, 0, 0, ..., 0, 0, 0],\n",
       "          [0, 0, 0, ..., 0, 0, 0]],\n",
       "  \n",
       "         [[0, 0, 0, ..., 0, 0, 0],\n",
       "          [0, 0, 0, ..., 0, 0, 0],\n",
       "          [0, 0, 0, ..., 0, 0, 0],\n",
       "          ...,\n",
       "          [0, 0, 0, ..., 0, 0, 0],\n",
       "          [0, 0, 0, ..., 0, 0, 0],\n",
       "          [0, 0, 0, ..., 0, 0, 0]],\n",
       "  \n",
       "         ...,\n",
       "  \n",
       "         [[0, 0, 0, ..., 0, 0, 0],\n",
       "          [0, 0, 0, ..., 0, 0, 0],\n",
       "          [0, 0, 0, ..., 0, 0, 0],\n",
       "          ...,\n",
       "          [0, 0, 0, ..., 0, 0, 0],\n",
       "          [0, 0, 0, ..., 0, 0, 0],\n",
       "          [0, 0, 0, ..., 0, 0, 0]],\n",
       "  \n",
       "         [[0, 0, 0, ..., 0, 0, 0],\n",
       "          [0, 0, 0, ..., 0, 0, 0],\n",
       "          [0, 0, 0, ..., 0, 0, 0],\n",
       "          ...,\n",
       "          [0, 0, 0, ..., 0, 0, 0],\n",
       "          [0, 0, 0, ..., 0, 0, 0],\n",
       "          [0, 0, 0, ..., 0, 0, 0]],\n",
       "  \n",
       "         [[0, 0, 0, ..., 0, 0, 0],\n",
       "          [0, 0, 0, ..., 0, 0, 0],\n",
       "          [0, 0, 0, ..., 0, 0, 0],\n",
       "          ...,\n",
       "          [0, 0, 0, ..., 0, 0, 0],\n",
       "          [0, 0, 0, ..., 0, 0, 0],\n",
       "          [0, 0, 0, ..., 0, 0, 0]]], dtype=uint8),\n",
       "  array([7, 2, 1, ..., 4, 5, 6], dtype=uint8)))"
      ]
     },
     "execution_count": 2,
     "metadata": {},
     "output_type": "execute_result"
    }
   ],
   "source": [
    "mnist.load_data()"
   ]
  },
  {
   "cell_type": "code",
   "execution_count": 6,
   "id": "c8b07848",
   "metadata": {},
   "outputs": [
    {
     "data": {
      "text/plain": [
       "(10000, 60000)"
      ]
     },
     "execution_count": 6,
     "metadata": {},
     "output_type": "execute_result"
    }
   ],
   "source": [
    "(len(X_test_0)),(len(X_train_0))"
   ]
  },
  {
   "cell_type": "code",
   "execution_count": 3,
   "id": "c146d115",
   "metadata": {},
   "outputs": [
    {
     "name": "stdout",
     "output_type": "stream",
     "text": [
      "Shape of training data set:  (60000, 28, 28) (60000,)\n",
      "\n",
      "Shape of testing data set:  (10000, 28, 28) (10000,)\n",
      "\n",
      "Ratio of test size:  0.17\n"
     ]
    }
   ],
   "source": [
    "(X_train_0,y_train_0),(X_test_0,y_test_0) = mnist.load_data()\n",
    "print(\"Shape of training data set: \", X_train_0.shape, y_train_0.shape)\n",
    "print()\n",
    "print(\"Shape of testing data set: \", X_test_0.shape, y_test_0.shape)\n",
    "print()\n",
    "print(\"Ratio of test size: \", round((len(X_test_0) / len(X_train_0)),2))\n",
    "\n"
   ]
  },
  {
   "cell_type": "code",
   "execution_count": 8,
   "id": "4fcb1ed1",
   "metadata": {},
   "outputs": [
    {
     "name": "stdout",
     "output_type": "stream",
     "text": [
      "784 , 10\n"
     ]
    }
   ],
   "source": [
    "number_of_features = X_train_0[0].shape[0] * X_train_0[0].shape[1]  ##one sheet of 6000 sheets has shape of 28*28, so each time we pass 28*28 values at once to the nodes an drepeat this for 6000 times\n",
    "unique_labels = len(np.unique(y_train_0))\n",
    "print(number_of_features,\",\", unique_labels)"
   ]
  },
  {
   "cell_type": "markdown",
   "id": "10473d7f",
   "metadata": {},
   "source": [
    "#### Unique labels(dependent variable) for dataset"
   ]
  },
  {
   "cell_type": "code",
   "execution_count": 11,
   "id": "e049447c",
   "metadata": {},
   "outputs": [
    {
     "data": {
      "text/plain": [
       "10"
      ]
     },
     "execution_count": 11,
     "metadata": {},
     "output_type": "execute_result"
    }
   ],
   "source": [
    "len(np.unique(y_train_0))"
   ]
  },
  {
   "cell_type": "code",
   "execution_count": 12,
   "id": "7cbdbedb",
   "metadata": {},
   "outputs": [
    {
     "data": {
      "text/plain": [
       "array([0, 1, 2, 3, 4, 5, 6, 7, 8, 9], dtype=uint8)"
      ]
     },
     "execution_count": 12,
     "metadata": {},
     "output_type": "execute_result"
    }
   ],
   "source": [
    "np.unique(y_train_0)"
   ]
  },
  {
   "cell_type": "code",
   "execution_count": 72,
   "id": "4ec311a0",
   "metadata": {},
   "outputs": [
    {
     "data": {
      "image/png": "[encoded data removed]",
      "text/plain": [
       "<Figure size 640x480 with 50 Axes>"
      ]
     },
     "metadata": {},
     "output_type": "display_data"
    }
   ],
   "source": [
    "import matplotlib.pyplot as plt\n",
    "for i in range(50):\n",
    "    ax = plt.subplot(10,10,i+1)\n",
    "    ax.axis('off')\n",
    "    plt.imshow(X_train_0[i], cmap='Greys')"
   ]
  },
  {
   "cell_type": "code",
   "execution_count": 25,
   "id": "35d4c9dc",
   "metadata": {},
   "outputs": [
    {
     "data": {
      "text/plain": [
       "<matplotlib.image.AxesImage at 0x7f0eabfbb310>"
      ]
     },
     "execution_count": 25,
     "metadata": {},
     "output_type": "execute_result"
    },
    {
     "data": {
      "image/png": "[encoded data removed]",
      "text/plain": [
       "<Figure size 640x480 with 1 Axes>"
      ]
     },
     "metadata": {},
     "output_type": "display_data"
    }
   ],
   "source": [
    "plt.imshow(X_train_0[9], cmap='Greys')"
   ]
  },
  {
   "cell_type": "code",
   "execution_count": 26,
   "id": "bbc43e28",
   "metadata": {},
   "outputs": [
    {
     "data": {
      "text/plain": [
       "4"
      ]
     },
     "execution_count": 26,
     "metadata": {},
     "output_type": "execute_result"
    }
   ],
   "source": [
    "y_train_0[9]"
   ]
  },
  {
   "cell_type": "code",
   "execution_count": 16,
   "id": "d185feeb",
   "metadata": {},
   "outputs": [
    {
     "data": {
      "text/plain": [
       "array([[  0,   0,   0,   0,   0,   0,   0,   0,   0,   0,   0,   0,   0,\n",
       "          0,   0,   0,   0,   0,   0,   0,   0,   0,   0,   0,   0,   0,\n",
       "          0,   0],\n",
       "       [  0,   0,   0,   0,   0,   0,   0,   0,   0,   0,   0,   0,   0,\n",
       "          0,   0,   0,   0,   0,   0,   0,   0,   0,   0,   0,   0,   0,\n",
       "          0,   0],\n",
       "       [  0,   0,   0,   0,   0,   0,   0,   0,   0,   0,   0,   0,   0,\n",
       "          0,   0,   0,   0,   0,   0,   0,   0,   0,   0,   0,   0,   0,\n",
       "          0,   0],\n",
       "       [  0,   0,   0,   0,   0,   0,   0,   0,   0,   0,   0,   0,   0,\n",
       "          0,   0,   0,   0,   0,   0,   0,   0,   0,   0,   0,   0,   0,\n",
       "          0,   0],\n",
       "       [  0,   0,   0,   0,   0,   0,   0,   0,   0,   0,   0,   0,   0,\n",
       "          0,   0,   0,   0,   0,   0,   0,   0,   0,   0,   0,   0,   0,\n",
       "          0,   0],\n",
       "       [  0,   0,   0,   0,   0,   0,   0,   0,   0,   0,   0,   0,   3,\n",
       "         18,  18,  18, 126, 136, 175,  26, 166, 255, 247, 127,   0,   0,\n",
       "          0,   0],\n",
       "       [  0,   0,   0,   0,   0,   0,   0,   0,  30,  36,  94, 154, 170,\n",
       "        253, 253, 253, 253, 253, 225, 172, 253, 242, 195,  64,   0,   0,\n",
       "          0,   0],\n",
       "       [  0,   0,   0,   0,   0,   0,   0,  49, 238, 253, 253, 253, 253,\n",
       "        253, 253, 253, 253, 251,  93,  82,  82,  56,  39,   0,   0,   0,\n",
       "          0,   0],\n",
       "       [  0,   0,   0,   0,   0,   0,   0,  18, 219, 253, 253, 253, 253,\n",
       "        253, 198, 182, 247, 241,   0,   0,   0,   0,   0,   0,   0,   0,\n",
       "          0,   0],\n",
       "       [  0,   0,   0,   0,   0,   0,   0,   0,  80, 156, 107, 253, 253,\n",
       "        205,  11,   0,  43, 154,   0,   0,   0,   0,   0,   0,   0,   0,\n",
       "          0,   0],\n",
       "       [  0,   0,   0,   0,   0,   0,   0,   0,   0,  14,   1, 154, 253,\n",
       "         90,   0,   0,   0,   0,   0,   0,   0,   0,   0,   0,   0,   0,\n",
       "          0,   0],\n",
       "       [  0,   0,   0,   0,   0,   0,   0,   0,   0,   0,   0, 139, 253,\n",
       "        190,   2,   0,   0,   0,   0,   0,   0,   0,   0,   0,   0,   0,\n",
       "          0,   0],\n",
       "       [  0,   0,   0,   0,   0,   0,   0,   0,   0,   0,   0,  11, 190,\n",
       "        253,  70,   0,   0,   0,   0,   0,   0,   0,   0,   0,   0,   0,\n",
       "          0,   0],\n",
       "       [  0,   0,   0,   0,   0,   0,   0,   0,   0,   0,   0,   0,  35,\n",
       "        241, 225, 160, 108,   1,   0,   0,   0,   0,   0,   0,   0,   0,\n",
       "          0,   0],\n",
       "       [  0,   0,   0,   0,   0,   0,   0,   0,   0,   0,   0,   0,   0,\n",
       "         81, 240, 253, 253, 119,  25,   0,   0,   0,   0,   0,   0,   0,\n",
       "          0,   0],\n",
       "       [  0,   0,   0,   0,   0,   0,   0,   0,   0,   0,   0,   0,   0,\n",
       "          0,  45, 186, 253, 253, 150,  27,   0,   0,   0,   0,   0,   0,\n",
       "          0,   0],\n",
       "       [  0,   0,   0,   0,   0,   0,   0,   0,   0,   0,   0,   0,   0,\n",
       "          0,   0,  16,  93, 252, 253, 187,   0,   0,   0,   0,   0,   0,\n",
       "          0,   0],\n",
       "       [  0,   0,   0,   0,   0,   0,   0,   0,   0,   0,   0,   0,   0,\n",
       "          0,   0,   0,   0, 249, 253, 249,  64,   0,   0,   0,   0,   0,\n",
       "          0,   0],\n",
       "       [  0,   0,   0,   0,   0,   0,   0,   0,   0,   0,   0,   0,   0,\n",
       "          0,  46, 130, 183, 253, 253, 207,   2,   0,   0,   0,   0,   0,\n",
       "          0,   0],\n",
       "       [  0,   0,   0,   0,   0,   0,   0,   0,   0,   0,   0,   0,  39,\n",
       "        148, 229, 253, 253, 253, 250, 182,   0,   0,   0,   0,   0,   0,\n",
       "          0,   0],\n",
       "       [  0,   0,   0,   0,   0,   0,   0,   0,   0,   0,  24, 114, 221,\n",
       "        253, 253, 253, 253, 201,  78,   0,   0,   0,   0,   0,   0,   0,\n",
       "          0,   0],\n",
       "       [  0,   0,   0,   0,   0,   0,   0,   0,  23,  66, 213, 253, 253,\n",
       "        253, 253, 198,  81,   2,   0,   0,   0,   0,   0,   0,   0,   0,\n",
       "          0,   0],\n",
       "       [  0,   0,   0,   0,   0,   0,  18, 171, 219, 253, 253, 253, 253,\n",
       "        195,  80,   9,   0,   0,   0,   0,   0,   0,   0,   0,   0,   0,\n",
       "          0,   0],\n",
       "       [  0,   0,   0,   0,  55, 172, 226, 253, 253, 253, 253, 244, 133,\n",
       "         11,   0,   0,   0,   0,   0,   0,   0,   0,   0,   0,   0,   0,\n",
       "          0,   0],\n",
       "       [  0,   0,   0,   0, 136, 253, 253, 253, 212, 135, 132,  16,   0,\n",
       "          0,   0,   0,   0,   0,   0,   0,   0,   0,   0,   0,   0,   0,\n",
       "          0,   0],\n",
       "       [  0,   0,   0,   0,   0,   0,   0,   0,   0,   0,   0,   0,   0,\n",
       "          0,   0,   0,   0,   0,   0,   0,   0,   0,   0,   0,   0,   0,\n",
       "          0,   0],\n",
       "       [  0,   0,   0,   0,   0,   0,   0,   0,   0,   0,   0,   0,   0,\n",
       "          0,   0,   0,   0,   0,   0,   0,   0,   0,   0,   0,   0,   0,\n",
       "          0,   0],\n",
       "       [  0,   0,   0,   0,   0,   0,   0,   0,   0,   0,   0,   0,   0,\n",
       "          0,   0,   0,   0,   0,   0,   0,   0,   0,   0,   0,   0,   0,\n",
       "          0,   0]], dtype=uint8)"
      ]
     },
     "execution_count": 16,
     "metadata": {},
     "output_type": "execute_result"
    }
   ],
   "source": [
    "X_train_0[0]"
   ]
  },
  {
   "cell_type": "markdown",
   "id": "e4f6dc37",
   "metadata": {},
   "source": [
    "#### Problems With This Data\n",
    "There are (at least) two problems with this data as it is currently formatted:\n",
    "\n",
    "1. The input data is formatted as a 2D array, but our deep neural network needs to data as a 1D vector.\n",
    "This is because of how deep neural networks are constructed, it is simply not possible to send anything but a vector as input.\n",
    "These vectors can be/represent anything, but from the computer's perspective they must be a 1D vector.\n",
    "2. Our labels are numbers, but we're not performing regression. We need to use a 1-hot vector encoding for our labels.\n",
    "\n",
    "3. This is important because if we use the number values we would be training our network to think of these values as continuous.\n",
    "a. If the digit is supposed to be a 2, guessing 1 and guessing 9 are both equally wrong.\n",
    "    Training the network with numbers would imply that a prediction of 1 would be \"less wrong\" than a prediction of 9, when in fact both are equally wrong."
   ]
  },
  {
   "cell_type": "code",
   "execution_count": 31,
   "id": "ddf0f093",
   "metadata": {},
   "outputs": [
    {
     "name": "stdout",
     "output_type": "stream",
     "text": [
      "Before reshape, the shape of training images:  (60000, 28, 28)\n"
     ]
    }
   ],
   "source": [
    "print(\"Before reshape, the shape of training images: \", X_train_0.shape)\n"
   ]
  },
  {
   "cell_type": "markdown",
   "id": "bdd56686",
   "metadata": {},
   "source": [
    "##### RESHAPING INDEPENDENT VARIABLES IN TRAIN AND TEST DATASET"
   ]
  },
  {
   "cell_type": "code",
   "execution_count": 33,
   "id": "b1ab0d3e",
   "metadata": {},
   "outputs": [
    {
     "name": "stdout",
     "output_type": "stream",
     "text": [
      "\n",
      "After reshape, the shape of training images:  (60000, 784)\n",
      "After reshape, the shape of test images:  (10000, 784)\n"
     ]
    }
   ],
   "source": [
    "# In the images, there are 6000 of 28x28 matrices, now in order to change it to vector, we will make 28x28 matrix to a single vector of (28*28) rows\n",
    "X_train = X_train_0.reshape(len(X_train_0), number_of_features)\n",
    "X_test = X_test_0.reshape(len(X_test_0), number_of_features)\n",
    "print()\n",
    "print(\"After reshape, the shape of training images: \", X_train.shape)\n",
    "print(\"After reshape, the shape of test images: \", X_test.shape)"
   ]
  },
  {
   "cell_type": "markdown",
   "id": "aa875cdf",
   "metadata": {},
   "source": [
    "##### ONE-HOT encoding DEPENDENT VARIABLES (or Labels) in TRAIN and TEST DATASET"
   ]
  },
  {
   "cell_type": "code",
   "execution_count": 34,
   "id": "505af930",
   "metadata": {},
   "outputs": [],
   "source": [
    "y_train = keras.utils.to_categorical(y_train_0, num_classes = unique_labels )\n",
    "y_test = keras.utils.to_categorical(y_test_0, num_classes = unique_labels )"
   ]
  },
  {
   "cell_type": "code",
   "execution_count": 38,
   "id": "9263dd5c",
   "metadata": {},
   "outputs": [
    {
     "data": {
      "text/plain": [
       "5"
      ]
     },
     "execution_count": 38,
     "metadata": {},
     "output_type": "execute_result"
    }
   ],
   "source": [
    "y_train_0[0]"
   ]
  },
  {
   "cell_type": "code",
   "execution_count": 39,
   "id": "7b174520",
   "metadata": {},
   "outputs": [
    {
     "data": {
      "text/plain": [
       "array([0, 1, 2, 3, 4, 5, 6, 7, 8, 9], dtype=uint8)"
      ]
     },
     "execution_count": 39,
     "metadata": {},
     "output_type": "execute_result"
    }
   ],
   "source": [
    "np.unique(y_train_0)"
   ]
  },
  {
   "cell_type": "code",
   "execution_count": 47,
   "id": "31b0c49d",
   "metadata": {},
   "outputs": [
    {
     "data": {
      "text/plain": [
       "array([0., 0., 0., 0., 0., 1., 0., 0., 0., 0.], dtype=float32)"
      ]
     },
     "execution_count": 47,
     "metadata": {},
     "output_type": "execute_result"
    }
   ],
   "source": [
    "y_train[0]  ##This means first value in y_train was 5 since \"1\" occurs at 6th position"
   ]
  },
  {
   "cell_type": "markdown",
   "id": "6209b839",
   "metadata": {},
   "source": [
    "##### Neural Network\n",
    "This neural network will have three layers; input layer, hidden layer, output layer. This data has 784 columns or features, hence input layer will have 784 features, and there are 10 possible unique outputs, hence will have 10 nodes at the output. The hidden layer number of neurons is our choice, for a start, we will choose 30 neurons in hidden layer."
   ]
  },
  {
   "cell_type": "code",
   "execution_count": 48,
   "id": "a718d1ee",
   "metadata": {},
   "outputs": [],
   "source": [
    "# Libraries for neural network creation.\n",
    "# sequence is required to create a series of layers\n",
    "# for adding hidden layers, we need Dense\n",
    "from keras.models import Sequential\n",
    "from keras.layers import Dense"
   ]
  },
  {
   "cell_type": "code",
   "execution_count": 55,
   "id": "57a6cc34",
   "metadata": {},
   "outputs": [],
   "source": [
    "model = Sequential()"
   ]
  },
  {
   "cell_type": "code",
   "execution_count": 56,
   "id": "71f7b093",
   "metadata": {},
   "outputs": [],
   "source": [
    "# The first layer must specify it's input_shape.\n",
    "# This is how the first two layers are added, the input layer and the hidden layer.\n",
    "model.add(Dense(units = 30, ##Hidden layer will have 30 nodes\n",
    "               activation = 'sigmoid',\n",
    "               input_shape=(number_of_features,)))"
   ]
  },
  {
   "cell_type": "code",
   "execution_count": 65,
   "id": "16f63910",
   "metadata": {},
   "outputs": [
    {
     "data": {
      "text/plain": [
       "23550"
      ]
     },
     "execution_count": 65,
     "metadata": {},
     "output_type": "execute_result"
    }
   ],
   "source": [
    "0+784*30+30  #initial param+nodes in layer*no. of o/p nodes+no. of o/p nodes = Total params"
   ]
  },
  {
   "cell_type": "code",
   "execution_count": 57,
   "id": "09ced119",
   "metadata": {},
   "outputs": [
    {
     "name": "stdout",
     "output_type": "stream",
     "text": [
      "Model: \"sequential_1\"\n",
      "_________________________________________________________________\n",
      " Layer (type)                Output Shape              Param #   \n",
      "=================================================================\n",
      " dense_2 (Dense)             (None, 30)                23550     \n",
      "                                                                 \n",
      "=================================================================\n",
      "Total params: 23,550\n",
      "Trainable params: 23,550\n",
      "Non-trainable params: 0\n",
      "_________________________________________________________________\n"
     ]
    }
   ],
   "source": [
    "model.summary()"
   ]
  },
  {
   "cell_type": "code",
   "execution_count": 59,
   "id": "7b679f20",
   "metadata": {},
   "outputs": [],
   "source": [
    "#i/p layer has 784 nodes, then hidden layer has 30 nodes,"
   ]
  },
  {
   "cell_type": "code",
   "execution_count": 60,
   "id": "98f5faf6",
   "metadata": {},
   "outputs": [],
   "source": [
    "#Adding o/p layer, it shoul dhave number of unique labels as nodes\n",
    "model.add(Dense(units = unique_labels,\n",
    "               activation='softmax'))"
   ]
  },
  {
   "cell_type": "code",
   "execution_count": 64,
   "id": "1e22dc49",
   "metadata": {},
   "outputs": [
    {
     "data": {
      "text/plain": [
       "23860"
      ]
     },
     "execution_count": 64,
     "metadata": {},
     "output_type": "execute_result"
    }
   ],
   "source": [
    "23550+30*10+10 #initial param+nodes in layer*no. of o/p nodes+no. of o/p nodes = Total Params"
   ]
  },
  {
   "cell_type": "code",
   "execution_count": 61,
   "id": "3ea2dcb4",
   "metadata": {},
   "outputs": [
    {
     "name": "stdout",
     "output_type": "stream",
     "text": [
      "Model: \"sequential_1\"\n",
      "_________________________________________________________________\n",
      " Layer (type)                Output Shape              Param #   \n",
      "=================================================================\n",
      " dense_2 (Dense)             (None, 30)                23550     \n",
      "                                                                 \n",
      " dense_3 (Dense)             (None, 10)                310       \n",
      "                                                                 \n",
      "=================================================================\n",
      "Total params: 23,860\n",
      "Trainable params: 23,860\n",
      "Non-trainable params: 0\n",
      "_________________________________________________________________\n"
     ]
    }
   ],
   "source": [
    "model.summary()"
   ]
  },
  {
   "cell_type": "code",
   "execution_count": 67,
   "id": "76d8faa6",
   "metadata": {},
   "outputs": [
    {
     "data": {
      "text/plain": [
       "array([[0, 0, 0, ..., 0, 0, 0],\n",
       "       [0, 0, 0, ..., 0, 0, 0],\n",
       "       [0, 0, 0, ..., 0, 0, 0],\n",
       "       ...,\n",
       "       [0, 0, 0, ..., 0, 0, 0],\n",
       "       [0, 0, 0, ..., 0, 0, 0],\n",
       "       [0, 0, 0, ..., 0, 0, 0]], dtype=uint8)"
      ]
     },
     "execution_count": 67,
     "metadata": {},
     "output_type": "execute_result"
    }
   ],
   "source": [
    "X_train"
   ]
  },
  {
   "cell_type": "markdown",
   "id": "5d01aa2f",
   "metadata": {},
   "source": [
    "###### Compiling and Training a Model¶\n",
    "Our model must be compiled and trained before it can make useful predictions. Models are trainined with the training data and training labels. During this process Keras will use an optimizer, loss function, metrics of our chosing to repeatedly make predictions and recieve corrections. The loss function is used to train the model, the metrics are only used for human evaluation of the model during and after training.\n",
    "\n",
    "Training happens in a series of epochs which are divided into a series of rounds. Each round the network will recieve batch_size samples from the training data, make predictions, and recieve one correction based on the errors in those predictions. In a single epoch, the model will look at every item in the training set exactly once, which means individual data points are sampled from the training data without replacement during each round of each epoch.\n",
    "\n",
    "During training, the training data itself will be broken into two parts according to the validation_split parameter. The proportion that you specify will be left out of the training process, and used to evaluate the accuracy of the model. This is done to preserve the test data, while still having a set of data left out in order to test against — and hopefully prevent — overfitting. At the end of each epoch, predictions will be made for all the items in the validation set, but those predictions won't adjust the weights in the model. Instead, if the accuracy of the predictions in the validation set stops improving then training will stop early, even if accuracy in the training set is improving."
   ]
  },
  {
   "cell_type": "code",
   "execution_count": 68,
   "id": "0bd5b639",
   "metadata": {},
   "outputs": [],
   "source": [
    "# categorical_crossentropy is a common loss function used for categorical classification. - It penalizes for going away from actual prob and as e keep coming close to actual category i.e. predicted prob of actual class keeps going down, loss fn increases and vice versa\n",
    "# accuracy is the percent of predictions that were correct.\n",
    "model.compile(optimizer='sgd',\n",
    "              loss='categorical_crossentropy',\n",
    "              metrics=['accuracy'])"
   ]
  },
  {
   "cell_type": "code",
   "execution_count": 73,
   "id": "05409884",
   "metadata": {},
   "outputs": [
    {
     "name": "stdout",
     "output_type": "stream",
     "text": [
      "Model: \"sequential_1\"\n",
      "_________________________________________________________________\n",
      " Layer (type)                Output Shape              Param #   \n",
      "=================================================================\n",
      " dense_2 (Dense)             (None, 30)                23550     \n",
      "                                                                 \n",
      " dense_3 (Dense)             (None, 10)                310       \n",
      "                                                                 \n",
      "=================================================================\n",
      "Total params: 23,860\n",
      "Trainable params: 23,860\n",
      "Non-trainable params: 0\n",
      "_________________________________________________________________\n"
     ]
    }
   ],
   "source": [
    "model.summary()"
   ]
  },
  {
   "cell_type": "code",
   "execution_count": 69,
   "id": "0c99a610",
   "metadata": {},
   "outputs": [
    {
     "name": "stdout",
     "output_type": "stream",
     "text": [
      "Epoch 1/10\n",
      "540/540 - 2s - loss: 1.4733 - accuracy: 0.6292 - val_loss: 0.9941 - val_accuracy: 0.8275 - 2s/epoch - 3ms/step\n",
      "Epoch 2/10\n",
      "540/540 - 1s - loss: 0.8785 - accuracy: 0.8217 - val_loss: 0.6867 - val_accuracy: 0.8712 - 817ms/epoch - 2ms/step\n",
      "Epoch 3/10\n",
      "540/540 - 1s - loss: 0.6771 - accuracy: 0.8542 - val_loss: 0.5524 - val_accuracy: 0.8910 - 910ms/epoch - 2ms/step\n",
      "Epoch 4/10\n",
      "540/540 - 1s - loss: 0.5742 - accuracy: 0.8713 - val_loss: 0.4875 - val_accuracy: 0.8918 - 874ms/epoch - 2ms/step\n",
      "Epoch 5/10\n",
      "540/540 - 1s - loss: 0.5120 - accuracy: 0.8800 - val_loss: 0.4288 - val_accuracy: 0.9062 - 917ms/epoch - 2ms/step\n",
      "Epoch 6/10\n",
      "540/540 - 1s - loss: 0.4697 - accuracy: 0.8879 - val_loss: 0.3918 - val_accuracy: 0.9085 - 909ms/epoch - 2ms/step\n",
      "Epoch 7/10\n",
      "540/540 - 1s - loss: 0.4399 - accuracy: 0.8910 - val_loss: 0.3706 - val_accuracy: 0.9118 - 892ms/epoch - 2ms/step\n",
      "Epoch 8/10\n",
      "540/540 - 1s - loss: 0.4216 - accuracy: 0.8934 - val_loss: 0.3599 - val_accuracy: 0.9145 - 901ms/epoch - 2ms/step\n",
      "Epoch 9/10\n",
      "540/540 - 1s - loss: 0.3957 - accuracy: 0.8986 - val_loss: 0.3358 - val_accuracy: 0.9207 - 882ms/epoch - 2ms/step\n",
      "Epoch 10/10\n",
      "540/540 - 1s - loss: 0.3806 - accuracy: 0.9013 - val_loss: 0.3199 - val_accuracy: 0.9173 - 897ms/epoch - 2ms/step\n"
     ]
    }
   ],
   "source": [
    "history = model.fit(x = X_train,\n",
    "                    y = y_train,\n",
    "                    verbose=2,\n",
    "                    batch_size=100, # In each epoch, total train size/batch_size rounds happen\n",
    "                   epochs=10,   # 1 epoch means whole training data passed to model\n",
    "                   validation_split=0.10)"
   ]
  },
  {
   "cell_type": "markdown",
   "id": "bb9ae1d2",
   "metadata": {},
   "source": [
    "#### Visualizing our performance"
   ]
  },
  {
   "cell_type": "code",
   "execution_count": 79,
   "id": "d6e5e4fd",
   "metadata": {},
   "outputs": [
    {
     "data": {
      "text/plain": [
       "<matplotlib.legend.Legend at 0x7f0eabc48d60>"
      ]
     },
     "execution_count": 79,
     "metadata": {},
     "output_type": "execute_result"
    },
    {
     "data": {
      "image/png": "[encoded data removed]",
      "text/plain": [
       "<Figure size 640x480 with 1 Axes>"
      ]
     },
     "metadata": {},
     "output_type": "display_data"
    }
   ],
   "source": [
    "#Visualizing accuracy changes\n",
    "plt.plot(history.history['accuracy'])\n",
    "plt.plot(history.history['val_accuracy'])\n",
    "plt.title('model accuracy')\n",
    "plt.xlabel('epoch')\n",
    "plt.ylabel('accuracy')\n",
    "plt.legend(['training_data', 'validation_data'], loc='best')"
   ]
  },
  {
   "cell_type": "code",
   "execution_count": 80,
   "id": "5207e61b",
   "metadata": {},
   "outputs": [
    {
     "data": {
      "text/plain": [
       "<matplotlib.legend.Legend at 0x7f0eacb1fee0>"
      ]
     },
     "execution_count": 80,
     "metadata": {},
     "output_type": "execute_result"
    },
    {
     "data": {
      "image/png": "[encoded data removed]",
      "text/plain": [
       "<Figure size 640x480 with 1 Axes>"
      ]
     },
     "metadata": {},
     "output_type": "display_data"
    }
   ],
   "source": [
    "#Visualizing loss changes\n",
    "plt.plot(history.history['loss'])\n",
    "plt.plot(history.history['val_loss'])\n",
    "plt.title('model loss')\n",
    "plt.xlabel('epoch')\n",
    "plt.ylabel('loss')\n",
    "plt.legend(['training_data', 'validation_data'], loc='best')"
   ]
  },
  {
   "cell_type": "code",
   "execution_count": null,
   "id": "5830e2f3",
   "metadata": {},
   "outputs": [],
   "source": [
    "#We see that a loss of 0.3806 is achieved but how to know its min or not, first lets validate on test data and then we will think to optimize our model further"
   ]
  },
  {
   "cell_type": "code",
   "execution_count": 74,
   "id": "1e19e8ed",
   "metadata": {},
   "outputs": [
    {
     "name": "stdout",
     "output_type": "stream",
     "text": [
      "313/313 [==============================] - 0s 1ms/step - loss: 0.3630 - accuracy: 0.9060\n",
      "\n",
      "Testing data loss value:  0.36\n",
      "\n",
      "Testing data accuracy:  0.91\n"
     ]
    }
   ],
   "source": [
    "loss, accuracy = model.evaluate(x = X_test,\n",
    "                                y = y_test )\n",
    "print()\n",
    "print(\"Testing data loss value: \", round(loss, 2))\n",
    "print()\n",
    "print('Testing data accuracy: ', round(accuracy, 2))"
   ]
  },
  {
   "cell_type": "markdown",
   "id": "54414442",
   "metadata": {},
   "source": [
    "## Optimizing a model:\n",
    "1. Changing number of epochs\n",
    "2. Changing the optimizer\n",
    "3. Changing the learning rate for the optimizer:\n",
    "    a. Using automatic decay methods\n",
    "    b. Manually changing\n",
    "4. Changing the model"
   ]
  },
  {
   "cell_type": "markdown",
   "id": "531a830f",
   "metadata": {},
   "source": [
    "### 1. Changing the epochs while keeping untrained model"
   ]
  },
  {
   "cell_type": "code",
   "execution_count": 116,
   "id": "0bc9e4ad",
   "metadata": {},
   "outputs": [
    {
     "name": "stdout",
     "output_type": "stream",
     "text": [
      "Model: \"sequential_3\"\n",
      "_________________________________________________________________\n",
      " Layer (type)                Output Shape              Param #   \n",
      "=================================================================\n",
      " dense_6 (Dense)             (None, 30)                23550     \n",
      "                                                                 \n",
      " dense_7 (Dense)             (None, 10)                310       \n",
      "                                                                 \n",
      "=================================================================\n",
      "Total params: 23,860\n",
      "Trainable params: 23,860\n",
      "Non-trainable params: 0\n",
      "_________________________________________________________________\n"
     ]
    }
   ],
   "source": [
    "model=Sequential()\n",
    "model.add(Dense(units = 30, ##Hidden layer will have 30 nodes\n",
    "               activation = 'sigmoid',\n",
    "               input_shape=(number_of_features,)))\n",
    "model.add(Dense(units = unique_labels,\n",
    "               activation='softmax')) ##o/p layer so units(or nodes)= no. of o/p labels or unique categories in o/p\n",
    "model.summary()"
   ]
  },
  {
   "cell_type": "code",
   "execution_count": 117,
   "id": "fec9ea95",
   "metadata": {},
   "outputs": [],
   "source": [
    "model.compile(optimizer='sgd',\n",
    "              loss='categorical_crossentropy',\n",
    "              metrics=['accuracy'])"
   ]
  },
  {
   "cell_type": "code",
   "execution_count": 118,
   "id": "e92ca1d5",
   "metadata": {},
   "outputs": [
    {
     "name": "stdout",
     "output_type": "stream",
     "text": [
      "Epoch 1/30\n",
      "540/540 - 2s - loss: 1.3968 - accuracy: 0.6484 - val_loss: 0.9178 - val_accuracy: 0.8438 - 2s/epoch - 3ms/step\n",
      "Epoch 2/30\n",
      "540/540 - 1s - loss: 0.8287 - accuracy: 0.8329 - val_loss: 0.6577 - val_accuracy: 0.8793 - 971ms/epoch - 2ms/step\n",
      "Epoch 3/30\n",
      "540/540 - 1s - loss: 0.6470 - accuracy: 0.8624 - val_loss: 0.5233 - val_accuracy: 0.8958 - 975ms/epoch - 2ms/step\n",
      "Epoch 4/30\n",
      "540/540 - 1s - loss: 0.5541 - accuracy: 0.8755 - val_loss: 0.4664 - val_accuracy: 0.9040 - 777ms/epoch - 1ms/step\n",
      "Epoch 5/30\n",
      "540/540 - 1s - loss: 0.4958 - accuracy: 0.8834 - val_loss: 0.4179 - val_accuracy: 0.9117 - 743ms/epoch - 1ms/step\n",
      "Epoch 6/30\n",
      "540/540 - 1s - loss: 0.4576 - accuracy: 0.8893 - val_loss: 0.3990 - val_accuracy: 0.9070 - 956ms/epoch - 2ms/step\n",
      "Epoch 7/30\n",
      "540/540 - 1s - loss: 0.4312 - accuracy: 0.8922 - val_loss: 0.3654 - val_accuracy: 0.9133 - 777ms/epoch - 1ms/step\n",
      "Epoch 8/30\n",
      "540/540 - 1s - loss: 0.4096 - accuracy: 0.8945 - val_loss: 0.3518 - val_accuracy: 0.9158 - 750ms/epoch - 1ms/step\n",
      "Epoch 9/30\n",
      "540/540 - 1s - loss: 0.3948 - accuracy: 0.8971 - val_loss: 0.3399 - val_accuracy: 0.9137 - 789ms/epoch - 1ms/step\n",
      "Epoch 10/30\n",
      "540/540 - 1s - loss: 0.3779 - accuracy: 0.9015 - val_loss: 0.3136 - val_accuracy: 0.9215 - 840ms/epoch - 2ms/step\n",
      "Epoch 11/30\n",
      "540/540 - 1s - loss: 0.3707 - accuracy: 0.9025 - val_loss: 0.3156 - val_accuracy: 0.9168 - 725ms/epoch - 1ms/step\n",
      "Epoch 12/30\n",
      "540/540 - 1s - loss: 0.3586 - accuracy: 0.9034 - val_loss: 0.3044 - val_accuracy: 0.9212 - 726ms/epoch - 1ms/step\n",
      "Epoch 13/30\n",
      "540/540 - 1s - loss: 0.3463 - accuracy: 0.9065 - val_loss: 0.2963 - val_accuracy: 0.9253 - 735ms/epoch - 1ms/step\n",
      "Epoch 14/30\n",
      "540/540 - 1s - loss: 0.3416 - accuracy: 0.9065 - val_loss: 0.2894 - val_accuracy: 0.9233 - 814ms/epoch - 2ms/step\n",
      "Epoch 15/30\n",
      "540/540 - 1s - loss: 0.3365 - accuracy: 0.9079 - val_loss: 0.2877 - val_accuracy: 0.9258 - 785ms/epoch - 1ms/step\n",
      "Epoch 16/30\n",
      "540/540 - 1s - loss: 0.3305 - accuracy: 0.9088 - val_loss: 0.2722 - val_accuracy: 0.9280 - 803ms/epoch - 1ms/step\n",
      "Epoch 17/30\n",
      "540/540 - 1s - loss: 0.3218 - accuracy: 0.9110 - val_loss: 0.2841 - val_accuracy: 0.9292 - 812ms/epoch - 2ms/step\n",
      "Epoch 18/30\n",
      "540/540 - 1s - loss: 0.3184 - accuracy: 0.9119 - val_loss: 0.2757 - val_accuracy: 0.9270 - 853ms/epoch - 2ms/step\n",
      "Epoch 19/30\n",
      "540/540 - 1s - loss: 0.3112 - accuracy: 0.9141 - val_loss: 0.2796 - val_accuracy: 0.9255 - 860ms/epoch - 2ms/step\n",
      "Epoch 20/30\n",
      "540/540 - 1s - loss: 0.3113 - accuracy: 0.9122 - val_loss: 0.2657 - val_accuracy: 0.9283 - 927ms/epoch - 2ms/step\n",
      "Epoch 21/30\n",
      "540/540 - 1s - loss: 0.3043 - accuracy: 0.9137 - val_loss: 0.2614 - val_accuracy: 0.9268 - 906ms/epoch - 2ms/step\n",
      "Epoch 22/30\n",
      "540/540 - 1s - loss: 0.3105 - accuracy: 0.9140 - val_loss: 0.2732 - val_accuracy: 0.9273 - 760ms/epoch - 1ms/step\n",
      "Epoch 23/30\n",
      "540/540 - 1s - loss: 0.3005 - accuracy: 0.9153 - val_loss: 0.2584 - val_accuracy: 0.9320 - 986ms/epoch - 2ms/step\n",
      "Epoch 24/30\n",
      "540/540 - 1s - loss: 0.2928 - accuracy: 0.9170 - val_loss: 0.2532 - val_accuracy: 0.9278 - 979ms/epoch - 2ms/step\n",
      "Epoch 25/30\n",
      "540/540 - 1s - loss: 0.2899 - accuracy: 0.9181 - val_loss: 0.2605 - val_accuracy: 0.9290 - 794ms/epoch - 1ms/step\n",
      "Epoch 26/30\n",
      "540/540 - 1s - loss: 0.2904 - accuracy: 0.9179 - val_loss: 0.2511 - val_accuracy: 0.9318 - 893ms/epoch - 2ms/step\n",
      "Epoch 27/30\n",
      "540/540 - 1s - loss: 0.2864 - accuracy: 0.9184 - val_loss: 0.2739 - val_accuracy: 0.9242 - 834ms/epoch - 2ms/step\n",
      "Epoch 28/30\n",
      "540/540 - 1s - loss: 0.2904 - accuracy: 0.9163 - val_loss: 0.2517 - val_accuracy: 0.9310 - 794ms/epoch - 1ms/step\n",
      "Epoch 29/30\n",
      "540/540 - 1s - loss: 0.2855 - accuracy: 0.9182 - val_loss: 0.2405 - val_accuracy: 0.9335 - 836ms/epoch - 2ms/step\n",
      "Epoch 30/30\n",
      "540/540 - 1s - loss: 0.2778 - accuracy: 0.9203 - val_loss: 0.2461 - val_accuracy: 0.9327 - 777ms/epoch - 1ms/step\n"
     ]
    }
   ],
   "source": [
    "#Changing the number of epochs\n",
    "history_2 = model.fit(x = X_train,\n",
    "                    y = y_train,\n",
    "                    verbose=2,\n",
    "                    batch_size=100, # In each epoch, total train size/batch_size rounds happen\n",
    "                   epochs=30,   # 1 epoch means whole training data passed to model\n",
    "                   validation_split=0.10)"
   ]
  },
  {
   "cell_type": "code",
   "execution_count": 119,
   "id": "6fc0411e",
   "metadata": {},
   "outputs": [
    {
     "data": {
      "text/plain": [
       "Text(0, 0.5, 'loss')"
      ]
     },
     "execution_count": 119,
     "metadata": {},
     "output_type": "execute_result"
    },
    {
     "data": {
      "image/png": "[encoded data removed]",
      "text/plain": [
       "<Figure size 640x480 with 1 Axes>"
      ]
     },
     "metadata": {},
     "output_type": "display_data"
    }
   ],
   "source": [
    "plt.plot(history_2.history['loss'])\n",
    "plt.plot(history_2.history['val_loss'])\n",
    "plt.title(\"loss function\")\n",
    "plt.xlabel(\"epoch\")\n",
    "plt.ylabel(\"loss\")"
   ]
  },
  {
   "cell_type": "code",
   "execution_count": 101,
   "id": "ba107a24",
   "metadata": {},
   "outputs": [
    {
     "name": "stdout",
     "output_type": "stream",
     "text": [
      "313/313 [==============================] - 0s 653us/step\n"
     ]
    }
   ],
   "source": [
    "predictions_new_model=model.predict(X_test)"
   ]
  },
  {
   "cell_type": "code",
   "execution_count": 102,
   "id": "2e6848d4",
   "metadata": {},
   "outputs": [
    {
     "data": {
      "text/plain": [
       "10000"
      ]
     },
     "execution_count": 102,
     "metadata": {},
     "output_type": "execute_result"
    }
   ],
   "source": [
    "len(predictions_new_model)"
   ]
  },
  {
   "cell_type": "code",
   "execution_count": 103,
   "id": "564aa4ae",
   "metadata": {},
   "outputs": [
    {
     "data": {
      "text/plain": [
       "array([[0., 0., 0., ..., 1., 0., 0.],\n",
       "       [0., 0., 1., ..., 0., 0., 0.],\n",
       "       [0., 1., 0., ..., 0., 0., 0.],\n",
       "       ...,\n",
       "       [0., 0., 0., ..., 0., 0., 0.],\n",
       "       [0., 0., 0., ..., 0., 0., 0.],\n",
       "       [0., 0., 0., ..., 0., 0., 0.]], dtype=float32)"
      ]
     },
     "execution_count": 103,
     "metadata": {},
     "output_type": "execute_result"
    }
   ],
   "source": [
    "y_test"
   ]
  },
  {
   "cell_type": "code",
   "execution_count": 105,
   "id": "38f740ee",
   "metadata": {},
   "outputs": [
    {
     "data": {
      "text/plain": [
       "array([6.8366615e-05, 2.9688394e-05, 7.7979569e-03, 1.7467178e-02,\n",
       "       5.7664060e-06, 1.4017300e-04, 2.2269544e-06, 9.7420007e-01,\n",
       "       2.4047612e-04, 4.7955436e-05], dtype=float32)"
      ]
     },
     "execution_count": 105,
     "metadata": {},
     "output_type": "execute_result"
    }
   ],
   "source": [
    "predictions_new_model[0]"
   ]
  },
  {
   "cell_type": "code",
   "execution_count": 120,
   "id": "30f42749",
   "metadata": {},
   "outputs": [
    {
     "name": "stdout",
     "output_type": "stream",
     "text": [
      "313/313 [==============================] - 0s 902us/step - loss: 0.2851 - accuracy: 0.9199\n",
      "test_loss : 0.2850603759288788\n",
      "test_accuracy : 0.9199000000953674\n"
     ]
    }
   ],
   "source": [
    "loss, accuracy = model.evaluate(X_test,y_test)\n",
    "print(\"test_loss :\",loss)\n",
    "print(\"test_accuracy :\", accuracy)"
   ]
  },
  {
   "cell_type": "markdown",
   "id": "37d9b189",
   "metadata": {},
   "source": [
    "### How to use our trained model on random data"
   ]
  },
  {
   "cell_type": "code",
   "execution_count": 123,
   "id": "08503cb5",
   "metadata": {},
   "outputs": [],
   "source": [
    "##Saving our model\n",
    "model.save(\"Identify_number_model.h5\")"
   ]
  },
  {
   "cell_type": "code",
   "execution_count": 139,
   "id": "96048148",
   "metadata": {},
   "outputs": [],
   "source": [
    "##Loading our model\n",
    "Identify_number_model=keras.models.load_model(\"Identify_number_model.h5\")"
   ]
  },
  {
   "cell_type": "code",
   "execution_count": 166,
   "id": "8fc2e834",
   "metadata": {},
   "outputs": [],
   "source": [
    "import tensorflow as tf"
   ]
  },
  {
   "cell_type": "code",
   "execution_count": 182,
   "id": "f252c443",
   "metadata": {},
   "outputs": [],
   "source": [
    "batch_size = 50\n",
    "img_height = 28\n",
    "img_width = 28"
   ]
  },
  {
   "cell_type": "code",
   "execution_count": 183,
   "id": "375d4685",
   "metadata": {},
   "outputs": [],
   "source": [
    "\n",
    "img = tf.keras.utils.load_img(\n",
    "    'test_image_2.png', target_size=(img_height, img_width)\n",
    ")\n"
   ]
  },
  {
   "cell_type": "code",
   "execution_count": 184,
   "id": "87f1a942",
   "metadata": {},
   "outputs": [
    {
     "data": {
      "image/png": "[encoded data removed]",
      "text/plain": [
       "<PIL.Image.Image image mode=RGB size=28x28>"
      ]
     },
     "execution_count": 184,
     "metadata": {},
     "output_type": "execute_result"
    }
   ],
   "source": [
    "img"
   ]
  },
  {
   "cell_type": "code",
   "execution_count": 185,
   "id": "8af05f84",
   "metadata": {},
   "outputs": [],
   "source": [
    "img_array = tf.keras.utils.img_to_array(img)\n",
    "#img_array = tf.expand_dims(img_array,) - to add dimension if needed"
   ]
  },
  {
   "cell_type": "code",
   "execution_count": 175,
   "id": "f702598a",
   "metadata": {},
   "outputs": [],
   "source": [
    "img_array=img_array[0]"
   ]
  },
  {
   "cell_type": "code",
   "execution_count": 186,
   "id": "53e0e567",
   "metadata": {},
   "outputs": [
    {
     "data": {
      "text/plain": [
       "(3, 28, 28)"
      ]
     },
     "execution_count": 186,
     "metadata": {},
     "output_type": "execute_result"
    }
   ],
   "source": [
    "img_array.shape"
   ]
  },
  {
   "cell_type": "code",
   "execution_count": 189,
   "id": "7fb0290c",
   "metadata": {
    "scrolled": true
   },
   "outputs": [
    {
     "data": {
      "image/png": "[encoded data removed]",
      "text/plain": [
       "<Figure size 640x480 with 3 Axes>"
      ]
     },
     "metadata": {},
     "output_type": "display_data"
    }
   ],
   "source": [
    "for i in range(3):\n",
    "    ax = plt.subplot(10,10,i+1)\n",
    "    ax.axis('off')\n",
    "    plt.imshow(img_array[i], cmap='Greys')"
   ]
  },
  {
   "cell_type": "code",
   "execution_count": 168,
   "id": "db90d4f6",
   "metadata": {},
   "outputs": [
    {
     "data": {
      "text/plain": [
       "(3, 32, 32)"
      ]
     },
     "execution_count": 168,
     "metadata": {},
     "output_type": "execute_result"
    }
   ],
   "source": [
    "img_array.shape"
   ]
  },
  {
   "cell_type": "code",
   "execution_count": 190,
   "id": "bacf3b1e",
   "metadata": {},
   "outputs": [
    {
     "ename": "ValueError",
     "evalue": "in user code:\n\n    File \"/home/ec2-user/anaconda3/envs/tensorflow2_p310/lib/python3.10/site-packages/keras/engine/training.py\", line 2169, in predict_function  *\n        return step_function(self, iterator)\n    File \"/home/ec2-user/anaconda3/envs/tensorflow2_p310/lib/python3.10/site-packages/keras/engine/training.py\", line 2155, in step_function  **\n        outputs = model.distribute_strategy.run(run_step, args=(data,))\n    File \"/home/ec2-user/anaconda3/envs/tensorflow2_p310/lib/python3.10/site-packages/keras/engine/training.py\", line 2143, in run_step  **\n        outputs = model.predict_step(data)\n    File \"/home/ec2-user/anaconda3/envs/tensorflow2_p310/lib/python3.10/site-packages/keras/engine/training.py\", line 2111, in predict_step\n        return self(x, training=False)\n    File \"/home/ec2-user/anaconda3/envs/tensorflow2_p310/lib/python3.10/site-packages/keras/utils/traceback_utils.py\", line 70, in error_handler\n        raise e.with_traceback(filtered_tb) from None\n    File \"/home/ec2-user/anaconda3/envs/tensorflow2_p310/lib/python3.10/site-packages/keras/engine/input_spec.py\", line 298, in assert_input_compatibility\n        raise ValueError(\n\n    ValueError: Input 0 of layer \"sequential_3\" is incompatible with the layer: expected shape=(None, 784), found shape=(None, 28, 28)\n",
     "output_type": "error",
     "traceback": [
      "\u001b[0;31m---------------------------------------------------------------------------\u001b[0m",
      "\u001b[0;31mValueError\u001b[0m                                Traceback (most recent call last)",
      "Cell \u001b[0;32mIn[190], line 1\u001b[0m\n\u001b[0;32m----> 1\u001b[0m \u001b[43mIdentify_number_model\u001b[49m\u001b[38;5;241;43m.\u001b[39;49m\u001b[43mpredict\u001b[49m\u001b[43m(\u001b[49m\u001b[43mimg_array\u001b[49m\u001b[43m)\u001b[49m\n",
      "File \u001b[0;32m~/anaconda3/envs/tensorflow2_p310/lib/python3.10/site-packages/keras/utils/traceback_utils.py:70\u001b[0m, in \u001b[0;36mfilter_traceback.<locals>.error_handler\u001b[0;34m(*args, **kwargs)\u001b[0m\n\u001b[1;32m     67\u001b[0m     filtered_tb \u001b[38;5;241m=\u001b[39m _process_traceback_frames(e\u001b[38;5;241m.\u001b[39m__traceback__)\n\u001b[1;32m     68\u001b[0m     \u001b[38;5;66;03m# To get the full stack trace, call:\u001b[39;00m\n\u001b[1;32m     69\u001b[0m     \u001b[38;5;66;03m# `tf.debugging.disable_traceback_filtering()`\u001b[39;00m\n\u001b[0;32m---> 70\u001b[0m     \u001b[38;5;28;01mraise\u001b[39;00m e\u001b[38;5;241m.\u001b[39mwith_traceback(filtered_tb) \u001b[38;5;28;01mfrom\u001b[39;00m \u001b[38;5;28;01mNone\u001b[39;00m\n\u001b[1;32m     71\u001b[0m \u001b[38;5;28;01mfinally\u001b[39;00m:\n\u001b[1;32m     72\u001b[0m     \u001b[38;5;28;01mdel\u001b[39;00m filtered_tb\n",
      "File \u001b[0;32m/tmp/__autograph_generated_filerm1epguy.py:15\u001b[0m, in \u001b[0;36mouter_factory.<locals>.inner_factory.<locals>.tf__predict_function\u001b[0;34m(iterator)\u001b[0m\n\u001b[1;32m     13\u001b[0m \u001b[38;5;28;01mtry\u001b[39;00m:\n\u001b[1;32m     14\u001b[0m     do_return \u001b[38;5;241m=\u001b[39m \u001b[38;5;28;01mTrue\u001b[39;00m\n\u001b[0;32m---> 15\u001b[0m     retval_ \u001b[38;5;241m=\u001b[39m ag__\u001b[38;5;241m.\u001b[39mconverted_call(ag__\u001b[38;5;241m.\u001b[39mld(step_function), (ag__\u001b[38;5;241m.\u001b[39mld(\u001b[38;5;28mself\u001b[39m), ag__\u001b[38;5;241m.\u001b[39mld(iterator)), \u001b[38;5;28;01mNone\u001b[39;00m, fscope)\n\u001b[1;32m     16\u001b[0m \u001b[38;5;28;01mexcept\u001b[39;00m:\n\u001b[1;32m     17\u001b[0m     do_return \u001b[38;5;241m=\u001b[39m \u001b[38;5;28;01mFalse\u001b[39;00m\n",
      "\u001b[0;31mValueError\u001b[0m: in user code:\n\n    File \"/home/ec2-user/anaconda3/envs/tensorflow2_p310/lib/python3.10/site-packages/keras/engine/training.py\", line 2169, in predict_function  *\n        return step_function(self, iterator)\n    File \"/home/ec2-user/anaconda3/envs/tensorflow2_p310/lib/python3.10/site-packages/keras/engine/training.py\", line 2155, in step_function  **\n        outputs = model.distribute_strategy.run(run_step, args=(data,))\n    File \"/home/ec2-user/anaconda3/envs/tensorflow2_p310/lib/python3.10/site-packages/keras/engine/training.py\", line 2143, in run_step  **\n        outputs = model.predict_step(data)\n    File \"/home/ec2-user/anaconda3/envs/tensorflow2_p310/lib/python3.10/site-packages/keras/engine/training.py\", line 2111, in predict_step\n        return self(x, training=False)\n    File \"/home/ec2-user/anaconda3/envs/tensorflow2_p310/lib/python3.10/site-packages/keras/utils/traceback_utils.py\", line 70, in error_handler\n        raise e.with_traceback(filtered_tb) from None\n    File \"/home/ec2-user/anaconda3/envs/tensorflow2_p310/lib/python3.10/site-packages/keras/engine/input_spec.py\", line 298, in assert_input_compatibility\n        raise ValueError(\n\n    ValueError: Input 0 of layer \"sequential_3\" is incompatible with the layer: expected shape=(None, 784), found shape=(None, 28, 28)\n"
     ]
    }
   ],
   "source": [
    "Identify_number_model.predict(img_array)"
   ]
  },
  {
   "cell_type": "code",
   "execution_count": null,
   "id": "13d8ad63",
   "metadata": {},
   "outputs": [],
   "source": [
    "##so, 2-D image cant be fed as i/p, hence reshaping"
   ]
  },
  {
   "cell_type": "code",
   "execution_count": 191,
   "id": "85b64baa",
   "metadata": {},
   "outputs": [
    {
     "data": {
      "text/plain": [
       "3"
      ]
     },
     "execution_count": 191,
     "metadata": {},
     "output_type": "execute_result"
    }
   ],
   "source": [
    "len(img_array)"
   ]
  },
  {
   "cell_type": "code",
   "execution_count": 192,
   "id": "743d83f1",
   "metadata": {},
   "outputs": [],
   "source": [
    "img_array = img_array.reshape(len(img_array), number_of_features)\n"
   ]
  },
  {
   "cell_type": "code",
   "execution_count": 193,
   "id": "2738ee67",
   "metadata": {},
   "outputs": [
    {
     "data": {
      "text/plain": [
       "(3, 784)"
      ]
     },
     "execution_count": 193,
     "metadata": {},
     "output_type": "execute_result"
    }
   ],
   "source": [
    "img_array.shape"
   ]
  },
  {
   "cell_type": "code",
   "execution_count": 195,
   "id": "e34369f9",
   "metadata": {},
   "outputs": [
    {
     "name": "stdout",
     "output_type": "stream",
     "text": [
      "1/1 [==============================] - 0s 20ms/step\n"
     ]
    }
   ],
   "source": [
    "my_pred=Identify_number_model.predict(img_array)"
   ]
  },
  {
   "cell_type": "code",
   "execution_count": 208,
   "id": "84a0f829",
   "metadata": {},
   "outputs": [
    {
     "data": {
      "text/plain": [
       "array([[2.1415554e-02, 6.4740976e-04, 8.2098119e-02, 7.6635492e-01,\n",
       "        2.8424861e-04, 6.3617542e-02, 2.8860103e-02, 1.9138858e-02,\n",
       "        1.1457296e-02, 6.1260518e-03],\n",
       "       [2.1415554e-02, 6.4740976e-04, 8.2098119e-02, 7.6635492e-01,\n",
       "        2.8424861e-04, 6.3617542e-02, 2.8860103e-02, 1.9138858e-02,\n",
       "        1.1457296e-02, 6.1260518e-03],\n",
       "       [2.1415554e-02, 6.4740976e-04, 8.2098119e-02, 7.6635492e-01,\n",
       "        2.8424861e-04, 6.3617542e-02, 2.8860103e-02, 1.9138858e-02,\n",
       "        1.1457296e-02, 6.1260518e-03]], dtype=float32)"
      ]
     },
     "execution_count": 208,
     "metadata": {},
     "output_type": "execute_result"
    }
   ],
   "source": [
    "my_pred"
   ]
  },
  {
   "cell_type": "code",
   "execution_count": null,
   "id": "812bfb2f",
   "metadata": {},
   "outputs": [],
   "source": [
    "## probabilities of being in the class [0,1,2,3,4,5,6,7,8,9] = 214,6.47,820,7663,2.84,636,288,191,114,61.2 \n",
    "### So, as per this, the number in image 1 is 3, although it was 5 so, it could be test image unclarity or something\n",
    "## or the model needs to be refined or something"
   ]
  },
  {
   "cell_type": "code",
   "execution_count": 205,
   "id": "a3791167",
   "metadata": {},
   "outputs": [],
   "source": [
    "img_array_actual_res=np.array([[0,0,0,0,0,1,0,0,0,0],[0,0,0,0,0,1,0,0,0,0],[0,0,0,0,0,1,0,0,0,0]])"
   ]
  },
  {
   "cell_type": "code",
   "execution_count": 206,
   "id": "01599163",
   "metadata": {},
   "outputs": [
    {
     "data": {
      "text/plain": [
       "array([[0, 0, 0, 0, 0, 1, 0, 0, 0, 0],\n",
       "       [0, 0, 0, 0, 0, 1, 0, 0, 0, 0],\n",
       "       [0, 0, 0, 0, 0, 1, 0, 0, 0, 0]])"
      ]
     },
     "execution_count": 206,
     "metadata": {},
     "output_type": "execute_result"
    }
   ],
   "source": [
    "img_array_actual_res"
   ]
  },
  {
   "cell_type": "code",
   "execution_count": 202,
   "id": "96f3ecde",
   "metadata": {},
   "outputs": [],
   "source": [
    "#Lets check how model did on actual real life image shared by us"
   ]
  },
  {
   "cell_type": "code",
   "execution_count": 211,
   "id": "4f808f3e",
   "metadata": {},
   "outputs": [
    {
     "name": "stdout",
     "output_type": "stream",
     "text": [
      "1/1 [==============================] - 0s 31ms/step - loss: 2.7549 - accuracy: 0.0000e+00\n"
     ]
    },
    {
     "data": {
      "text/plain": [
       "[2.754866361618042, 0.0]"
      ]
     },
     "execution_count": 211,
     "metadata": {},
     "output_type": "execute_result"
    }
   ],
   "source": [
    "Identify_number_model.evaluate(img_array,img_array_actual_res)"
   ]
  },
  {
   "cell_type": "code",
   "execution_count": null,
   "id": "19ea8e4e",
   "metadata": {},
   "outputs": [],
   "source": [
    "##so, we got loss of 2.75 but accuracy 0"
   ]
  }
 ],
 "metadata": {
  "kernelspec": {
   "display_name": "conda_tensorflow2_p310",
   "language": "python",
   "name": "conda_tensorflow2_p310"
  },
  "language_info": {
   "codemirror_mode": {
    "name": "ipython",
    "version": 3
   },
   "file_extension": ".py",
   "mimetype": "text/x-python",
   "name": "python",
   "nbconvert_exporter": "python",
   "pygments_lexer": "ipython3",
   "version": "3.10.10"
  }
 },
 "nbformat": 4,
 "nbformat_minor": 5
}
